{
 "cells": [
  {
   "attachments": {},
   "cell_type": "markdown",
   "id": "intelligent-toyota",
   "metadata": {},
   "source": [
    "### Create CSV\n",
    "This notebook will randomly select a subset of the full training set to use as labeled training data, and will save a CSV with (key, index) pairs to pass into the training script. The output will be stored in ../scripts/csv_samplers.\n"
   ]
  },
  {
   "cell_type": "code",
   "execution_count": 3,
   "id": "comic-bernard",
   "metadata": {},
   "outputs": [],
   "source": [
    "import csv\n",
    "import numpy as np\n",
    "import os\n",
    "import random\n",
    "from matplotlib import pyplot as plt\n",
    "import glob, os\n",
    "from shared_utils import *\n"
   ]
  },
  {
   "cell_type": "code",
   "execution_count": 4,
   "id": "reduced-antibody",
   "metadata": {},
   "outputs": [],
   "source": [
    "# Set variables --- should only need to modify this cell for custom datasets\n",
    "\n",
    "task = 'acdc' # Task name, should match the task name where data is stored\n",
    "dataset_path = f'../data/{task}/train' # Path to directory where all training images are located\n",
    "seg_path = f'../data/{task}/train' # Path to directory where all training seg masks are located, typically the same as dataset_path\n",
    "save_path = '../scripts/csv_samplers' # Path to directory where CSV will be saved\n",
    "n_keys = 5 # Number of patients to select, either set to an int or \"all\" to use all patients\n",
    "n_slice_per_key = 'all' # Number of slices to select from each patient, if the patient's img is a volume; either int or \"all\" to use all slices in the volume\n",
    "seed = 1 # Random seed\n"
   ]
  },
  {
   "cell_type": "code",
   "execution_count": 5,
   "id": "particular-potter",
   "metadata": {
    "scrolled": false
   },
   "outputs": [
    {
     "name": "stdout",
     "output_type": "stream",
     "text": [
      "Saving to ../scripts/csv_samplers/acdc_3-keys_1-slice-per-key_seed-1.csv\n",
      "Total number of patients available: 5\n",
      "Total number of patients added: 3\n",
      "Total number of unique patients added: 3\n",
      "Total number of (patient, slice index) pairs added: 3\n",
      "Total number of unique (patient, slice index) pairs added: 3\n"
     ]
    }
   ],
   "source": [
    "# Setup\n",
    "all_keys = []\n",
    "all_idx = []\n",
    "\n",
    "np.random.seed(seed)\n",
    "random.seed(seed)\n",
    "\n",
    "if not os.path.exists(save_path): os.makedirs(save_path)\n",
    "csv_fn = os.path.join(save_path, ('_').join([task,str(n_keys)+'-'+'keys',str(n_slice_per_key)+'-'+'slice-per-key','seed'+'-'+str(seed)])+'.csv')\n",
    "print('Saving to',csv_fn)\n",
    "\n",
    "# Select keys and image slice indices\n",
    "with open(csv_fn, \"a\") as csv_file:\n",
    "    writer = csv.writer(csv_file, delimiter=',')\n",
    "\n",
    "    # Select which patients will be used as labeled data\n",
    "    full_key_list = glob.glob(os.path.join(dataset_path,'*_image.npy'))\n",
    "    full_key_list = [k for k in full_key_list if os.path.exists(os.path.join(seg_path,k.split('/')[-1].split('_image')[0]+'_seg.npy'))]\n",
    "    key_list = [('_').join(k.split('/')[-1].split('_')[:-1]) for k in full_key_list]\n",
    "\n",
    "    if n_keys=='all': \n",
    "        selected_key_list = key_list\n",
    "\n",
    "    else:\n",
    "        if len(key_list)>n_keys:\n",
    "            selected_key_list = random.sample(key_list, n_keys)\n",
    "        elif len(key_list)==n_keys:\n",
    "            selected_key_list = key_list\n",
    "        else:\n",
    "            print('Warning, you have specified more training patients than are available in the data path; sampling with replacement.')\n",
    "            selected_key_list = random.choices(key_list, k=n_keys)\n",
    "    \n",
    "    # Select which slices will be used as labeled data\n",
    "    pairs_added = []\n",
    "    for kind, key in enumerate(selected_key_list):\n",
    "\n",
    "        # Managing image slices\n",
    "        img = np.load(os.path.join(dataset_path,key+\"_image.npy\"))\n",
    "        \n",
    "        if n_slice_per_key == 'all':\n",
    "            selected_slice_list = range(img.shape[-1])\n",
    "        else: \n",
    "            # Select random slices\n",
    "            if img.shape[-1]>n_slice_per_key:\n",
    "                selected_slice_list = random.sample(range(img.shape[-1]), n_slice_per_key)\n",
    "            elif img.shape[-1]==n_slice_per_key:\n",
    "                selected_slice_list = range(img.shape[-1])\n",
    "            else:\n",
    "                print('Warning, you have specified more slices per image than are available in the data path; sampling with replacement.')\n",
    "                selected_slice_list = random.choices(range(img.shape[-1]), k=n_slice_per_key)           \n",
    "\n",
    "        # Save patient/slice into csv\n",
    "        for sl in selected_slice_list:\n",
    "            writer.writerow([key,sl])\n",
    "            pairs_added += [(key,sl)]\n",
    "\n",
    "print('Total number of patients available:', len(key_list))\n",
    "print('Total number of patients added to the CSV:', len(selected_key_list))\n",
    "print('Total number of unique patients added to the CSV:', len(set(selected_key_list)))\n",
    "print('Total number of (patient, slice index) pairs added to the CSV:',len(pairs_added))\n",
    "print('Total number of unique (patient, slice index) pairs added to the CSV:',len(set(pairs_added)))\n"
   ]
  },
  {
   "cell_type": "code",
   "execution_count": 4,
   "id": "desperate-sustainability",
   "metadata": {
    "scrolled": false
   },
   "outputs": [
    {
     "name": "stdout",
     "output_type": "stream",
     "text": [
      "Checking saved csv\n",
      "Number of unique patients in csv: 5\n",
      "Number of (patient, slice index) entries in csv: 53\n"
     ]
    },
    {
     "data": {
      "image/png": "[encoded data removed]",
      "text/plain": [
       "<Figure size 640x480 with 1 Axes>"
      ]
     },
     "metadata": {},
     "output_type": "display_data"
    }
   ],
   "source": [
    "# Check CSV\n",
    "all_keys = []\n",
    "all_idxs = []\n",
    "with open(csv_fn, newline='') as f:\n",
    "    data = list(csv.reader(f))\n",
    "    for key, idx in data:\n",
    "        all_keys += [key]\n",
    "        all_idxs += [idx]\n",
    "print('Checking saved csv')\n",
    "print('Number of unique patients in csv:',len(set(all_keys)))\n",
    "print('Number of (patient, slice index) entries in csv:',len(all_idxs))\n",
    "\n",
    "# Plot dist of slices\n",
    "if len(np.unique(all_idxs))>1:\n",
    "    plt.figure()\n",
    "    plt.hist(np.asarray([int(i) for i in all_idxs]),bins=range(max([int(i) for i in all_idxs])+1))\n",
    "    plt.title('Distribution of slice indices')\n",
    "    plt.show()\n",
    "    plt.close()"
   ]
  },
  {
   "cell_type": "code",
   "execution_count": null,
   "id": "western-physiology",
   "metadata": {},
   "outputs": [],
   "source": []
  }
 ],
 "metadata": {
  "kernelspec": {
   "display_name": "Python 3",
   "language": "python",
   "name": "python3"
  },
  "language_info": {
   "codemirror_mode": {
    "name": "ipython",
    "version": 3
   },
   "file_extension": ".py",
   "mimetype": "text/x-python",
   "name": "python",
   "nbconvert_exporter": "python",
   "pygments_lexer": "ipython3",
   "version": "3.8.10"
  }
 },
 "nbformat": 4,
 "nbformat_minor": 5
}
